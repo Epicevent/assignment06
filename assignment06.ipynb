{
 "cells": [
  {
   "cell_type": "markdown",
   "metadata": {},
   "source": [
    "# Assignment 6 \n",
    "## name : rocky kim \n",
    "## student id : 20152424\n",
    "## github link : https://github.com/Epicevent/assignment06 "
   ]
  },
  {
   "cell_type": "markdown",
   "metadata": {},
   "source": [
    "# We are given data \n",
    "## $$ noisy\\_x =(x_1 ,x_2 ,\\cdots,x_N )= (-100,-99,\\cdots,99,100) $$\n",
    "## $$ noisy\\_y =(y_1 ,y_2, \\cdots , y_N )$$"
   ]
  },
  {
   "cell_type": "markdown",
   "metadata": {},
   "source": [
    "# Make Noisy Data by given code"
   ]
  },
  {
   "cell_type": "code",
   "execution_count": 1,
   "metadata": {},
   "outputs": [],
   "source": [
    "import numpy as np\n",
    "import matplotlib.pyplot as plt\n",
    "from numpy.linalg import inv\n",
    "\n",
    "num     = 201\n",
    "std     = 20\n",
    "a       = 2 \n",
    "b       = 10\n",
    "\n",
    "n       = np.random.rand(num)\n",
    "nn      = n - np.mean(n)\n",
    "x       = np.linspace(-100,100,num)\n",
    "noisy_y      = a * x + nn * std + b # noisy data"
   ]
  },
  {
   "cell_type": "markdown",
   "metadata": {},
   "source": [
    "# visualize noisy data "
   ]
  },
  {
   "cell_type": "code",
   "execution_count": 2,
   "metadata": {},
   "outputs": [
    {
     "data": {
      "image/png": "[encoded data removed]",
      "text/plain": [
       "<Figure size 432x288 with 1 Axes>"
      ]
     },
     "metadata": {
      "needs_background": "light"
     },
     "output_type": "display_data"
    }
   ],
   "source": [
    "fig0 = plt.figure()\n",
    "plt.plot(x,noisy_y)# plot noisy\n",
    "plt.show()"
   ]
  },
  {
   "cell_type": "markdown",
   "metadata": {},
   "source": [
    "# Mathematic model for line fitting \n",
    "\n",
    "$$\n",
    "   A=\n",
    "  \\left[ {\\begin{array}{ccccc}\n",
    "   1 & x_1 \\\\\n",
    "   1 & x_2 \\\\\n",
    "   \\vdots & \\vdots \\\\\n",
    "   1 & x_n \n",
    "  \\end{array} } \\right]\n",
    "$$\n",
    "  \n",
    "$$\n",
    "  b=  \\left[ {\\begin{array}{ccccc}\n",
    "   y_1 \\\\\n",
    "   y_2 \\\\\n",
    "   \\vdots \\\\\n",
    "   y_n \n",
    "  \\end{array} } \\right]\n",
    "$$\n",
    "\n"
   ]
  },
  {
   "cell_type": "markdown",
   "metadata": {},
   "source": [
    "# We want to get $\\theta_1$, $\\theta_2$ that minimize \n",
    "\n",
    "$$ \\| A\n",
    "   \\left[ {\\begin{array}{ccccc}\n",
    "   \\theta_1 \\\\\n",
    "   \\theta_2\n",
    "  \\end{array} } \\right] - b   \\|^2\n",
    "$$\n",
    "\n"
   ]
  },
  {
   "cell_type": "markdown",
   "metadata": {},
   "source": [
    "# Solution of the least square problem \n",
    "\n",
    "$$\n",
    "   \\left[ {\\begin{array}{ccccc}\n",
    "   \\theta_1 \\\\\n",
    "   \\theta_2\n",
    "  \\end{array} } \\right]=(A^T A)^{-1}A^Tb \n",
    "$$"
   ]
  },
  {
   "cell_type": "code",
   "execution_count": 3,
   "metadata": {},
   "outputs": [],
   "source": [
    "# MakeArray A\n",
    "# I will use this method : below \n",
    "# >>> a = np.array((1,2,3))\n",
    "# >>> b = np.array((2,3,4))\n",
    "# >>> np.column_stack((a,b))\n",
    "# array([[1, 2],\n",
    "#        [2, 3],\n",
    "#        [3, 4]])\n",
    "\n",
    "a1 = np.ones(num) # first column of A\n",
    "\n",
    "A = np.column_stack((a1,x))\n",
    "ATA =np.matmul(A.T, A)\n",
    "invATA = inv(ATA)\n",
    "C = np.matmul(invATA, A.T)# C Matmul noise_ = theta_1, theta_2"
   ]
  },
  {
   "cell_type": "markdown",
   "metadata": {},
   "source": [
    "# Caculate \n",
    "\n",
    "$$ \\| A\n",
    "   \\left[ {\\begin{array}{ccccc}\n",
    "   \\theta_1 \\\\\n",
    "   \\theta_2\n",
    "  \\end{array} } \\right] - b   \\|^2\n",
    "$$\n",
    "\n",
    "# and\n",
    "\n",
    "$$\n",
    "\\theta_1,\\theta_2\n",
    "$$"
   ]
  },
  {
   "cell_type": "code",
   "execution_count": 4,
   "metadata": {},
   "outputs": [
    {
     "name": "stdout",
     "output_type": "stream",
     "text": [
      "[[5981.50850717]]\n"
     ]
    }
   ],
   "source": [
    "numdata = np.shape(noisy_y)[0]\n",
    "transposednoisy_y = noisy_y.reshape((numdata, 1))\n",
    "thetavector = np.matmul(C,transposednoisy_y )\n",
    "# thetavector = np.array([10,2]).reshape(2,1) \n",
    "theEnergy = np.matmul(((np.matmul(A,thetavector))-transposednoisy_y).T,\n",
    "                      ((np.matmul(A,thetavector))-transposednoisy_y))\n",
    "print(theEnergy)"
   ]
  },
  {
   "cell_type": "code",
   "execution_count": 5,
   "metadata": {},
   "outputs": [
    {
     "name": "stdout",
     "output_type": "stream",
     "text": [
      "theta_1 = 9.999999999999993\n",
      "theta_2 = 2.008331190580927\n"
     ]
    }
   ],
   "source": [
    "print(\"theta_1 = \" +str(thetavector[0][0])+\"\\ntheta_2 = \" + str(thetavector[1][0])) # print the solution"
   ]
  },
  {
   "cell_type": "markdown",
   "metadata": {},
   "source": [
    "# Caculate clean data and  plot clean data "
   ]
  },
  {
   "cell_type": "code",
   "execution_count": 6,
   "metadata": {},
   "outputs": [
    {
     "data": {
      "image/png": "[encoded data removed]",
      "text/plain": [
       "<Figure size 432x288 with 1 Axes>"
      ]
     },
     "metadata": {
      "needs_background": "light"
     },
     "output_type": "display_data"
    }
   ],
   "source": [
    "clean_y =(np.matmul(A,thetavector)).reshape(-1,)  # clean\n",
    "fig1 = plt.figure(1)\n",
    "plt.plot(x, clean_y)\n",
    "plt.show()\n"
   ]
  },
  {
   "cell_type": "markdown",
   "metadata": {},
   "source": [
    "CLEAN DATA "
   ]
  },
  {
   "cell_type": "markdown",
   "metadata": {},
   "source": [
    "# draw line that fits the noisy data"
   ]
  },
  {
   "cell_type": "code",
   "execution_count": 7,
   "metadata": {},
   "outputs": [
    {
     "data": {
      "image/png": "[encoded data removed]",
      "text/plain": [
       "<Figure size 432x288 with 1 Axes>"
      ]
     },
     "metadata": {
      "needs_background": "light"
     },
     "output_type": "display_data"
    }
   ],
   "source": [
    "px = [-100 ,100]\n",
    "py = [clean_y[0] , clean_y[200]]\n",
    "fig2 = plt.figure(2)\n",
    "plt.plot(x,noisy_y)# noisy\n",
    "plt.xlim(-150, 150), plt.ylim(-300, 300)\n",
    "plt.plot(px,py ) #line fit\n",
    "plt.show()\n",
    "\n"
   ]
  }
 ],
 "metadata": {
  "kernelspec": {
   "display_name": "Python 3",
   "language": "python",
   "name": "python3"
  },
  "language_info": {
   "codemirror_mode": {
    "name": "ipython",
    "version": 3
   },
   "file_extension": ".py",
   "mimetype": "text/x-python",
   "name": "python",
   "nbconvert_exporter": "python",
   "pygments_lexer": "ipython3",
   "version": "3.7.0"
  }
 },
 "nbformat": 4,
 "nbformat_minor": 2
}
